{
  "cells": [
    {
      "cell_type": "markdown",
      "metadata": {
        "id": "UC2143dTHpNQ"
      },
      "source": [
        "# Soccer master\n",
        "\n",
        "## Model training\n",
        "\n",
        "This is the model training part of the project and for this you'll require the data file which is generated after running soccer_master_eda.ipynb"
      ]
    },
    {
      "cell_type": "code",
      "execution_count": 1,
      "metadata": {
        "colab": {
          "base_uri": "https://localhost:8080/"
        },
        "id": "7-EnziVOdKOx",
        "outputId": "ce6334a7-cfdc-44f1-9e74-c03439a9831a"
      },
      "outputs": [
        {
          "name": "stdout",
          "output_type": "stream",
          "text": [
            "Requirement already satisfied: xgboost in c:\\users\\devdp\\anaconda3\\lib\\site-packages (2.1.3)\n",
            "Requirement already satisfied: numpy in c:\\users\\devdp\\anaconda3\\lib\\site-packages (from xgboost) (1.26.4)\n",
            "Requirement already satisfied: scipy in c:\\users\\devdp\\anaconda3\\lib\\site-packages (from xgboost) (1.11.4)\n"
          ]
        }
      ],
      "source": [
        "!pip install xgboost"
      ]
    },
    {
      "cell_type": "code",
      "execution_count": 2,
      "metadata": {
        "id": "EyWfDvYWM_uR"
      },
      "outputs": [],
      "source": [
        "import pandas as pd\n",
        "import numpy as np\n",
        "from sklearn.preprocessing import StandardScaler, OneHotEncoder\n",
        "from sklearn.compose import ColumnTransformer\n",
        "from sklearn.pipeline import Pipeline\n",
        "from sklearn.model_selection import cross_val_score, GridSearchCV\n",
        "from sklearn.ensemble import RandomForestRegressor, GradientBoostingRegressor,  VotingRegressor\n",
        "from xgboost import XGBRegressor\n",
        "from sklearn.linear_model import LassoCV, RidgeCV\n",
        "from sklearn.metrics import mean_squared_error, r2_score, mean_absolute_error\n",
        "import matplotlib.pyplot as plt\n",
        "import seaborn as sns\n",
        "from sklearn.decomposition import PCA\n",
        "from sklearn.impute import SimpleImputer"
      ]
    },
    {
      "cell_type": "markdown",
      "metadata": {
        "id": "VycNP1NSMLAc"
      },
      "source": [
        "# Pre-processed data loading"
      ]
    },
    {
      "cell_type": "code",
      "execution_count": 3,
      "metadata": {
        "colab": {
          "base_uri": "https://localhost:8080/",
          "height": 290
        },
        "id": "kCRTe53YNOe8",
        "outputId": "8576eeb1-ee11-4e22-9f7c-90d3a36c90c4"
      },
      "outputs": [
        {
          "data": {
            "text/html": [
              "<div>\n",
              "<style scoped>\n",
              "    .dataframe tbody tr th:only-of-type {\n",
              "        vertical-align: middle;\n",
              "    }\n",
              "\n",
              "    .dataframe tbody tr th {\n",
              "        vertical-align: top;\n",
              "    }\n",
              "\n",
              "    .dataframe thead th {\n",
              "        text-align: right;\n",
              "    }\n",
              "</style>\n",
              "<table border=\"1\" class=\"dataframe\">\n",
              "  <thead>\n",
              "    <tr style=\"text-align: right;\">\n",
              "      <th></th>\n",
              "      <th>player_id</th>\n",
              "      <th>from_club_id</th>\n",
              "      <th>to_club_id</th>\n",
              "      <th>transfer_fee</th>\n",
              "      <th>market_value_in_eur</th>\n",
              "      <th>season</th>\n",
              "      <th>home_games</th>\n",
              "      <th>playing_formation</th>\n",
              "      <th>appearances</th>\n",
              "      <th>goals_per_game</th>\n",
              "      <th>...</th>\n",
              "      <th>win_percentage</th>\n",
              "      <th>draw_percentage</th>\n",
              "      <th>home_win_percentage</th>\n",
              "      <th>away_win_percentage</th>\n",
              "      <th>position</th>\n",
              "      <th>sub_position</th>\n",
              "      <th>foot</th>\n",
              "      <th>avg_market_value_of_last_seasons</th>\n",
              "      <th>age_at_transfer</th>\n",
              "      <th>transfer_diff</th>\n",
              "    </tr>\n",
              "  </thead>\n",
              "  <tbody>\n",
              "    <tr>\n",
              "      <th>0</th>\n",
              "      <td>3333</td>\n",
              "      <td>10161</td>\n",
              "      <td>399</td>\n",
              "      <td>0.0</td>\n",
              "      <td>0.0</td>\n",
              "      <td>2002</td>\n",
              "      <td>35.0</td>\n",
              "      <td>4-2-3-1</td>\n",
              "      <td>68.0</td>\n",
              "      <td>0.000000</td>\n",
              "      <td>...</td>\n",
              "      <td>0.208333</td>\n",
              "      <td>0.263889</td>\n",
              "      <td>0.316993</td>\n",
              "      <td>0.088889</td>\n",
              "      <td>Goalkeeper</td>\n",
              "      <td>Goalkeeper</td>\n",
              "      <td>left</td>\n",
              "      <td>1.500000e+06</td>\n",
              "      <td>16.0</td>\n",
              "      <td>0.0</td>\n",
              "    </tr>\n",
              "    <tr>\n",
              "      <th>1</th>\n",
              "      <td>3333</td>\n",
              "      <td>399</td>\n",
              "      <td>352</td>\n",
              "      <td>0.0</td>\n",
              "      <td>0.0</td>\n",
              "      <td>2003</td>\n",
              "      <td>32.0</td>\n",
              "      <td>5-3-2</td>\n",
              "      <td>62.0</td>\n",
              "      <td>0.086207</td>\n",
              "      <td>...</td>\n",
              "      <td>0.371473</td>\n",
              "      <td>0.356322</td>\n",
              "      <td>0.464706</td>\n",
              "      <td>0.272321</td>\n",
              "      <td>Defender</td>\n",
              "      <td>Left-Back</td>\n",
              "      <td>left</td>\n",
              "      <td>8.000000e+05</td>\n",
              "      <td>17.0</td>\n",
              "      <td>0.0</td>\n",
              "    </tr>\n",
              "    <tr>\n",
              "      <th>2</th>\n",
              "      <td>3333</td>\n",
              "      <td>352</td>\n",
              "      <td>399</td>\n",
              "      <td>0.0</td>\n",
              "      <td>0.0</td>\n",
              "      <td>2003</td>\n",
              "      <td>15.0</td>\n",
              "      <td>4-1-4-1</td>\n",
              "      <td>29.0</td>\n",
              "      <td>0.137931</td>\n",
              "      <td>...</td>\n",
              "      <td>0.620690</td>\n",
              "      <td>0.241379</td>\n",
              "      <td>0.866667</td>\n",
              "      <td>0.357143</td>\n",
              "      <td>Attack</td>\n",
              "      <td>Centre-Forward</td>\n",
              "      <td>right</td>\n",
              "      <td>5.500000e+07</td>\n",
              "      <td>17.0</td>\n",
              "      <td>0.0</td>\n",
              "    </tr>\n",
              "    <tr>\n",
              "      <th>3</th>\n",
              "      <td>3333</td>\n",
              "      <td>399</td>\n",
              "      <td>762</td>\n",
              "      <td>7400000.0</td>\n",
              "      <td>7400000.0</td>\n",
              "      <td>2004</td>\n",
              "      <td>255.0</td>\n",
              "      <td>4-3-3 Attacking</td>\n",
              "      <td>501.0</td>\n",
              "      <td>0.060938</td>\n",
              "      <td>...</td>\n",
              "      <td>0.679278</td>\n",
              "      <td>0.161885</td>\n",
              "      <td>0.767983</td>\n",
              "      <td>0.580309</td>\n",
              "      <td>Midfield</td>\n",
              "      <td>Central Midfield</td>\n",
              "      <td>right</td>\n",
              "      <td>2.966667e+07</td>\n",
              "      <td>18.0</td>\n",
              "      <td>0.0</td>\n",
              "    </tr>\n",
              "    <tr>\n",
              "      <th>4</th>\n",
              "      <td>3333</td>\n",
              "      <td>762</td>\n",
              "      <td>405</td>\n",
              "      <td>0.0</td>\n",
              "      <td>5500000.0</td>\n",
              "      <td>2005</td>\n",
              "      <td>12.0</td>\n",
              "      <td>3-4-1-2</td>\n",
              "      <td>28.0</td>\n",
              "      <td>0.000000</td>\n",
              "      <td>...</td>\n",
              "      <td>0.035714</td>\n",
              "      <td>0.250000</td>\n",
              "      <td>0.000000</td>\n",
              "      <td>0.062500</td>\n",
              "      <td>Defender</td>\n",
              "      <td>Left-Back</td>\n",
              "      <td>left</td>\n",
              "      <td>1.000000e+06</td>\n",
              "      <td>19.0</td>\n",
              "      <td>-5500000.0</td>\n",
              "    </tr>\n",
              "  </tbody>\n",
              "</table>\n",
              "<p>5 rows × 24 columns</p>\n",
              "</div>"
            ],
            "text/plain": [
              "   player_id  from_club_id  to_club_id  transfer_fee  market_value_in_eur  \\\n",
              "0       3333         10161         399           0.0                  0.0   \n",
              "1       3333           399         352           0.0                  0.0   \n",
              "2       3333           352         399           0.0                  0.0   \n",
              "3       3333           399         762     7400000.0            7400000.0   \n",
              "4       3333           762         405           0.0            5500000.0   \n",
              "\n",
              "   season  home_games playing_formation  appearances  goals_per_game  ...  \\\n",
              "0    2002        35.0           4-2-3-1         68.0        0.000000  ...   \n",
              "1    2003        32.0             5-3-2         62.0        0.086207  ...   \n",
              "2    2003        15.0           4-1-4-1         29.0        0.137931  ...   \n",
              "3    2004       255.0   4-3-3 Attacking        501.0        0.060938  ...   \n",
              "4    2005        12.0           3-4-1-2         28.0        0.000000  ...   \n",
              "\n",
              "   win_percentage  draw_percentage  home_win_percentage  away_win_percentage  \\\n",
              "0        0.208333         0.263889             0.316993             0.088889   \n",
              "1        0.371473         0.356322             0.464706             0.272321   \n",
              "2        0.620690         0.241379             0.866667             0.357143   \n",
              "3        0.679278         0.161885             0.767983             0.580309   \n",
              "4        0.035714         0.250000             0.000000             0.062500   \n",
              "\n",
              "     position      sub_position   foot  avg_market_value_of_last_seasons  \\\n",
              "0  Goalkeeper        Goalkeeper   left                      1.500000e+06   \n",
              "1    Defender         Left-Back   left                      8.000000e+05   \n",
              "2      Attack    Centre-Forward  right                      5.500000e+07   \n",
              "3    Midfield  Central Midfield  right                      2.966667e+07   \n",
              "4    Defender         Left-Back   left                      1.000000e+06   \n",
              "\n",
              "  age_at_transfer transfer_diff  \n",
              "0            16.0           0.0  \n",
              "1            17.0           0.0  \n",
              "2            17.0           0.0  \n",
              "3            18.0           0.0  \n",
              "4            19.0    -5500000.0  \n",
              "\n",
              "[5 rows x 24 columns]"
            ]
          },
          "execution_count": 3,
          "metadata": {},
          "output_type": "execute_result"
        }
      ],
      "source": [
        "transfer_data = pd.read_csv(\"C:\\\\Users\\\\devdp\\\\OneDrive\\\\Documents\\\\Github\\\\UMBC\\\\soccer_master\\\\data\\\\transfers_data.csv\")\n",
        "transfer_data.head()"
      ]
    },
    {
      "cell_type": "code",
      "execution_count": 4,
      "metadata": {
        "id": "lRB6HZ72d0tg"
      },
      "outputs": [],
      "source": [
        "def process_formation_data(dataframe, training_year_threshold):\n",
        "    \"\"\"\n",
        "    Process and standardize formation data by replacing rare formations.\n",
        "\n",
        "    Args:\n",
        "        dataframe: Transfer data DataFrame\n",
        "        training_year_threshold: Year to split training data\n",
        "\n",
        "    Returns:\n",
        "        DataFrame with processed formation data\n",
        "    \"\"\"\n",
        "    processed_df = dataframe.copy()\n",
        "\n",
        "    # Identify common formations (10+ occurrences) in training data\n",
        "    formation_frequency = processed_df[processed_df['season'] < training_year_threshold]['playing_formation'].value_counts()\n",
        "    frequent_formations = formation_frequency[formation_frequency >= 10].index\n",
        "\n",
        "    # Standardize rare and missing formations\n",
        "    processed_df.loc[~processed_df['playing_formation'].isin(frequent_formations), 'playing_formation'] = 'Other'\n",
        "    processed_df['playing_formation'] = processed_df['playing_formation'].fillna('Unknown')\n",
        "\n",
        "    return processed_df\n",
        "\n",
        "def prepare_model_data(dataframe, training_year_threshold=2023):\n",
        "    \"\"\"\n",
        "    Prepare data for model training by splitting and identifying feature types.\n",
        "\n",
        "    Args:\n",
        "        dataframe: Transfer data DataFrame\n",
        "        training_year_threshold: Year to split training/test data (default: 2023)\n",
        "\n",
        "    Returns:\n",
        "        X_train, X_test, y_train, y_test, categorical_features, numerical_features\n",
        "    \"\"\"\n",
        "    processed_df = process_formation_data(dataframe, training_year_threshold)\n",
        "\n",
        "    # Split data by year\n",
        "    train_data = processed_df[processed_df['season'] < training_year_threshold].copy()\n",
        "    test_data = processed_df[processed_df['season'] >= training_year_threshold].copy()\n",
        "\n",
        "    # Separate features and target\n",
        "    X_train = train_data.drop(['transfer_fee'], axis=1)\n",
        "    y_train = train_data['transfer_fee']\n",
        "    X_test = test_data.drop(['transfer_fee'], axis=1)\n",
        "    y_test = test_data['transfer_fee']\n",
        "\n",
        "    # Identify feature types\n",
        "    categorical_features = ['position', 'sub_position', 'foot', 'playing_formation']\n",
        "    numerical_features = [col for col in X_train.columns if col not in categorical_features]\n",
        "\n",
        "    return X_train, X_test, y_train, y_test, categorical_features, numerical_features"
      ]
    },
    {
      "cell_type": "code",
      "execution_count": 5,
      "metadata": {
        "id": "Lhe25EiXd_ZE"
      },
      "outputs": [],
      "source": [
        "def transform_features(features_df, categorical_columns, numerical_columns, existing_transformer=None):\n",
        "    \"\"\"\n",
        "    Transform features using preprocessing pipeline for model training/inference.\n",
        "\n",
        "    Args:\n",
        "        features_df: Feature DataFrame\n",
        "        categorical_columns: List of categorical feature names\n",
        "        numerical_columns: List of numerical feature names\n",
        "        existing_transformer: Optional fitted transformer for inference\n",
        "\n",
        "    Returns:\n",
        "        transformed_features: Preprocessed feature matrix\n",
        "        transformer: Fitted transformer pipeline\n",
        "    \"\"\"\n",
        "    feature_preprocessor = ColumnTransformer([\n",
        "        ('numerical', Pipeline([\n",
        "            ('imputer', SimpleImputer(strategy='median')),\n",
        "            ('scaler', StandardScaler())\n",
        "        ]), numerical_columns),\n",
        "        ('categorical', Pipeline([\n",
        "            ('imputer', SimpleImputer(strategy='constant', fill_value='missing')),\n",
        "            ('onehot', OneHotEncoder(drop='first', handle_unknown='ignore'))\n",
        "        ]), categorical_columns)\n",
        "    ])\n",
        "\n",
        "    preprocessing_pipeline = Pipeline([\n",
        "        ('preprocessor', feature_preprocessor),\n",
        "    ])\n",
        "\n",
        "    if existing_transformer is None:\n",
        "        transformed_features = preprocessing_pipeline.fit_transform(features_df)\n",
        "        return transformed_features, preprocessing_pipeline\n",
        "    else:\n",
        "        transformed_features = existing_transformer.transform(features_df)\n",
        "        return transformed_features, existing_transformer"
      ]
    },
    {
      "cell_type": "markdown",
      "metadata": {
        "id": "c0Hjhm1NeWY0"
      },
      "source": [
        "### Data Preparation Pipeline\n",
        "\n",
        "1. Split data into training/test sets (Using transfers before 2021 as training and rest as test data)\n",
        "2. Transform features using preprocessing pipeline\n",
        "3. Ensure consistent preprocessing across train/test data"
      ]
    },
    {
      "cell_type": "code",
      "execution_count": 6,
      "metadata": {
        "colab": {
          "base_uri": "https://localhost:8080/"
        },
        "id": "X0RwkXoIcXe2",
        "outputId": "16c233de-5a1b-44ec-b240-17af4a118cba"
      },
      "outputs": [
        {
          "name": "stdout",
          "output_type": "stream",
          "text": [
            "\n",
            "Initiating data preparation pipeline...\n",
            "\n",
            "Data preparation pipeline initiated successfully!\n",
            "✓ Data split complete: 46502 training samples, 15067 test samples\n",
            "✓ Training data transformed: 66 features generated\n",
            "✓ Test data transformed: 66 features generated\n",
            "\n",
            "Data preparation completed successfully!\n"
          ]
        }
      ],
      "source": [
        "print(\"\\nInitiating data preparation pipeline...\")\n",
        "\n",
        "# Split data into train and test sets\n",
        "X_train, X_test, y_train, y_test, categorical_features, numerical_features = prepare_model_data(transfer_data, training_year_threshold=2021)\n",
        "\n",
        "print(\"\\nData preparation pipeline initiated successfully!\")\n",
        "print(f\"✓ Data split complete: {len(X_train)} training samples, {len(X_test)} test samples\")\n",
        "\n",
        "# Transform training data and get fitted transformer\n",
        "X_train_transformed, feature_transformer = transform_features(\n",
        "    X_train,\n",
        "    categorical_features,\n",
        "    numerical_features\n",
        ")\n",
        "print(f\"✓ Training data transformed: {X_train_transformed.shape[1]} features generated\")\n",
        "\n",
        "# Transform test data using fitted transformer\n",
        "X_test_transformed, _ = transform_features(\n",
        "    X_test,\n",
        "    categorical_features,\n",
        "    numerical_features,\n",
        "    existing_transformer=feature_transformer\n",
        ")\n",
        "print(f\"✓ Test data transformed: {X_test_transformed.shape[1]} features generated\")\n",
        "\n",
        "print(\"\\nData preparation completed successfully!\")"
      ]
    },
    {
      "cell_type": "markdown",
      "metadata": {
        "id": "woi9CE0afIlp"
      },
      "source": [
        "### Model Training and Optimization\n",
        "Implements grid search optimization for multiple regressors:\n",
        "- Random Forest\n",
        "- XGBoost\n",
        "- Gradient Boosting\n",
        "Includes hyperparameter tuning and model evaluation."
      ]
    },
    {
      "cell_type": "code",
      "execution_count": 7,
      "metadata": {
        "colab": {
          "base_uri": "https://localhost:8080/"
        },
        "id": "z0YRVFa-Zgm7",
        "outputId": "995312b5-b94e-4005-ae35-f2e6c0a0cf33"
      },
      "outputs": [
        {
          "name": "stdout",
          "output_type": "stream",
          "text": [
            "Starting model optimization...\n",
            "\n",
            "Optimizing RandomForestRegressor...\n",
            "Fitting 2 folds for each of 6 candidates, totalling 12 fits\n",
            "✓ Best R² score: 0.963\n",
            "\n",
            "Optimizing XGBRegressor...\n",
            "Fitting 2 folds for each of 4 candidates, totalling 8 fits\n",
            "✓ Best R² score: 0.922\n",
            "\n",
            "Optimizing GradientBoostingRegressor...\n",
            "Fitting 2 folds for each of 2 candidates, totalling 4 fits\n",
            "✓ Best R² score: 0.975\n",
            "\n",
            "Optimization Results Summary:\n",
            "\n",
            "Random Forest:\n",
            "Best parameters: {'max_depth': 7, 'n_estimators': 100}\n",
            "\n",
            "XGBoost:\n",
            "Best parameters: {'learning_rate': 0.1, 'max_depth': 5, 'n_estimators': 100}\n",
            "\n",
            "Gradient Boosting:\n",
            "Best parameters: {'learning_rate': 0.1, 'max_depth': 5, 'n_estimators': 300}\n",
            "\n",
            "Model optimization completed successfully!\n"
          ]
        }
      ],
      "source": [
        "def optimize_regressor(model, param_grid, features, target, cv_folds=2):\n",
        "    \"\"\"\n",
        "    Optimize regressor using grid search cross-validation.\n",
        "    \"\"\"\n",
        "    print(f\"\\nOptimizing {model.__class__.__name__}...\")\n",
        "\n",
        "    optimizer = GridSearchCV(\n",
        "        model,\n",
        "        param_grid,\n",
        "        cv=cv_folds,\n",
        "        scoring='r2',\n",
        "        n_jobs=-1,\n",
        "        verbose=2\n",
        "    )\n",
        "    optimizer.fit(features, target)\n",
        "\n",
        "    print(f\"✓ Best R² score: {optimizer.best_score_:.3f}\")\n",
        "\n",
        "    return {\n",
        "        'model': optimizer.best_estimator_,\n",
        "        'best_params': optimizer.best_params_,\n",
        "    }\n",
        "\n",
        "# Define models and parameter grids\n",
        "model_configs = [\n",
        "    (RandomForestRegressor(), {\n",
        "        'n_estimators': [100, 300],\n",
        "        'max_depth': [3, 5, 7]\n",
        "    }),\n",
        "    (XGBRegressor(), {\n",
        "        'n_estimators': [100, 300],\n",
        "        'learning_rate': [0.1, 0.01],\n",
        "        'max_depth': [5]\n",
        "    }),\n",
        "    (GradientBoostingRegressor(), {\n",
        "        'n_estimators': [100, 300],\n",
        "        'learning_rate': [0.1],\n",
        "        'max_depth': [5]\n",
        "    })\n",
        "]\n",
        "\n",
        "print(\"Starting model optimization...\")\n",
        "optimization_results = []\n",
        "\n",
        "# Train and optimize each model\n",
        "for model, params in model_configs:\n",
        "    result = optimize_regressor(model, params, X_train_transformed, y_train)\n",
        "    optimization_results.append(result)\n",
        "\n",
        "# Print optimization results\n",
        "print(\"\\nOptimization Results Summary:\")\n",
        "for model_name, result in zip(\n",
        "    ['Random Forest', 'XGBoost', 'Gradient Boosting'],\n",
        "    optimization_results\n",
        "):\n",
        "    print(f\"\\n{model_name}:\")\n",
        "    print(f\"Best parameters: {result['best_params']}\")\n",
        "\n",
        "# Extract best models\n",
        "best_rf, best_xgb, best_gb = [result['model'] for result in optimization_results]\n",
        "print(\"\\nModel optimization completed successfully!\")"
      ]
    },
    {
      "cell_type": "markdown",
      "metadata": {
        "id": "YuHYoon9he29"
      },
      "source": [
        "### Ensemble Model\n",
        "Combines optimized models using VotingRegressor for final predictions"
      ]
    },
    {
      "cell_type": "code",
      "execution_count": 8,
      "metadata": {
        "colab": {
          "base_uri": "https://localhost:8080/"
        },
        "id": "WlmMB7T-dFdl",
        "outputId": "4c09a7fb-dccf-4095-c2bf-d166a7544306"
      },
      "outputs": [
        {
          "name": "stdout",
          "output_type": "stream",
          "text": [
            "Creating ensemble model...\n",
            "✓ Ensemble model trained successfully\n"
          ]
        }
      ],
      "source": [
        "print(\"Creating ensemble model...\")\n",
        "\n",
        "# Define model ensemble\n",
        "regressor_ensemble = [\n",
        "    ('random_forest', best_rf),\n",
        "    ('xgboost', best_xgb),\n",
        "    ('gradient_boosting', best_gb)\n",
        "]\n",
        "\n",
        "ensemble_model = VotingRegressor(regressor_ensemble)\n",
        "\n",
        "# Train ensemble\n",
        "ensemble_model.fit(X_train_transformed, y_train)\n",
        "\n",
        "# Generate predictions\n",
        "train_predictions = ensemble_model.predict(X_train_transformed)\n",
        "\n",
        "print(\"✓ Ensemble model trained successfully\")"
      ]
    },
    {
      "cell_type": "code",
      "execution_count": 9,
      "metadata": {
        "colab": {
          "base_uri": "https://localhost:8080/"
        },
        "id": "y14nH1hxd4mP",
        "outputId": "87f55c83-f974-4a4d-da4c-638451178dc4"
      },
      "outputs": [
        {
          "name": "stdout",
          "output_type": "stream",
          "text": [
            "R2 Score of voting ensamble model: 0.9980362054581483\n"
          ]
        }
      ],
      "source": [
        "print('R2 Score of voting ensamble model:', r2_score(y_train, train_predictions))"
      ]
    },
    {
      "cell_type": "markdown",
      "metadata": {
        "id": "Y0wMvv-Nipt7"
      },
      "source": [
        "### Model Evaluation\n",
        "Evaluates models on both training and test data using R² score"
      ]
    },
    {
      "cell_type": "code",
      "execution_count": 10,
      "metadata": {
        "colab": {
          "base_uri": "https://localhost:8080/",
          "height": 746
        },
        "id": "bMmdw1_9Or-r",
        "outputId": "17c2ccab-507c-444e-f4fc-85eaa801e831"
      },
      "outputs": [
        {
          "name": "stdout",
          "output_type": "stream",
          "text": [
            "Evaluating model performance...\n",
            "\n",
            "Model Performance Metrics:\n",
            "               Model  Train_R2   Test_R2\n",
            "0      Random Forest  0.994055  0.976555\n",
            "1            XGBoost  0.992759  0.918059\n",
            "2  Gradient Boosting  0.999920  0.982389\n",
            "3           Ensemble  0.998036  0.975350\n"
          ]
        },
        {
          "data": {
            "image/png": "[encoded data removed]",
            "text/plain": [
              "<Figure size 1000x600 with 1 Axes>"
            ]
          },
          "metadata": {},
          "output_type": "display_data"
        }
      ],
      "source": [
        "def evaluate_model_performance(train_features, train_target, test_features, test_target, models, model_names):\n",
        "    \"\"\"\n",
        "    Evaluate and visualize model performance on train and test data\n",
        "    \"\"\"\n",
        "    print(\"Evaluating model performance...\")\n",
        "\n",
        "    performance_metrics = {\n",
        "        'Model': [],\n",
        "        'Train_R2': [],\n",
        "        'Test_R2': []\n",
        "    }\n",
        "\n",
        "    # Calculate metrics for each model\n",
        "    for name, model in zip(model_names, models):\n",
        "        train_predictions = model.predict(train_features)\n",
        "        test_predictions = model.predict(test_features)\n",
        "\n",
        "        performance_metrics['Model'].append(name)\n",
        "        performance_metrics['Train_R2'].append(r2_score(train_target, train_predictions))\n",
        "        performance_metrics['Test_R2'].append(r2_score(test_target, test_predictions))\n",
        "\n",
        "    # Create performance DataFrame\n",
        "    results_df = pd.DataFrame(performance_metrics)\n",
        "    print(\"\\nModel Performance Metrics:\")\n",
        "    print(results_df)\n",
        "\n",
        "    # Visualize results\n",
        "    plt.figure(figsize=(10, 6))\n",
        "    x = np.arange(len(model_names))\n",
        "    width = 0.35\n",
        "\n",
        "    plt.bar(x - width/2, performance_metrics['Train_R2'], width, label='Train', color='skyblue')\n",
        "    plt.bar(x + width/2, performance_metrics['Test_R2'], width, label='Test', color='lightgreen')\n",
        "\n",
        "    plt.title('Model Performance Comparison')\n",
        "    plt.ylabel('R² Score')\n",
        "    plt.xlabel('Models')\n",
        "    plt.xticks(x, model_names, rotation=45)\n",
        "    plt.legend()\n",
        "    plt.tight_layout()\n",
        "    plt.show()\n",
        "\n",
        "    return results_df\n",
        "\n",
        "# Define model names\n",
        "model_names = ['Random Forest', 'XGBoost', 'Gradient Boosting', 'Ensemble']\n",
        "best_models = [best_rf, best_xgb, best_gb]\n",
        "# Evaluate models\n",
        "results = evaluate_model_performance(\n",
        "    X_train_transformed, y_train,\n",
        "    X_test_transformed, y_test,\n",
        "    best_models + [ensemble_model],\n",
        "    model_names\n",
        ")"
      ]
    },
    {
      "cell_type": "code",
      "execution_count": 11,
      "metadata": {
        "colab": {
          "base_uri": "https://localhost:8080/"
        },
        "id": "J2tI-JIzS76q",
        "outputId": "9e3aef65-e4c4-4f06-d6f3-241449794f11"
      },
      "outputs": [
        {
          "name": "stdout",
          "output_type": "stream",
          "text": [
            "✓ Models saved successfully:\n",
            "  - Ensemble model: C:\\Users\\devdp\\OneDrive\\Documents\\Github\\UMBC\\soccer_master\\ensemble_model.joblib\n",
            "  - Feature transformer: C:\\Users\\devdp\\OneDrive\\Documents\\Github\\UMBC\\soccer_master\\feature_transformer.joblib\n"
          ]
        }
      ],
      "source": [
        "# Save trained models and preprocessing pipeline\n",
        "import joblib\n",
        "model_path = 'C:\\\\Users\\\\devdp\\\\OneDrive\\\\Documents\\\\Github\\\\UMBC\\\\soccer_master\\\\'\n",
        "joblib.dump(ensemble_model, model_path+'ensemble_model.joblib')\n",
        "joblib.dump(feature_transformer, model_path+'feature_transformer.joblib')\n",
        "print(\"✓ Models saved successfully:\")\n",
        "print(f\"  - Ensemble model: {model_path+'ensemble_model.joblib'}\")\n",
        "print(f\"  - Feature transformer: {model_path+'feature_transformer.joblib'}\")"
      ]
    },
    {
      "cell_type": "markdown",
      "metadata": {
        "id": "WNfhjBupj8lS"
      },
      "source": [
        "# Sample test-case\n",
        "\n",
        "objective is to find transfer value of player named Ousmane Dembélé from dortmund to barcelona (player id is `288230`)"
      ]
    },
    {
      "cell_type": "code",
      "execution_count": 12,
      "metadata": {
        "id": "9Yt1mrNlzezy"
      },
      "outputs": [],
      "source": [
        "def format_currency(number):\n",
        "    \"\"\"\n",
        "    Format number as currency with thousands separators (e.g., 35,000,000)\n",
        "    \"\"\"\n",
        "    return \"{:,.0f}\".format(number)"
      ]
    },
    {
      "cell_type": "code",
      "execution_count": 13,
      "metadata": {
        "id": "SXQ_GDZhkx2V"
      },
      "outputs": [],
      "source": [
        "def predict_player_transfer(player_id, data, model, transformer, categorical_cols, numerical_cols):\n",
        "    \"\"\"\n",
        "    Predict transfer fee for a specific player\n",
        "    \"\"\"\n",
        "    # Get player data\n",
        "    player_data = data.query(f'player_id=={player_id}').iloc[1]\n",
        "    actual_fee = player_data[\"transfer_fee\"]\n",
        "\n",
        "    # Prepare features\n",
        "    features = pd.DataFrame(player_data.drop(\"transfer_fee\")).T\n",
        "    transformed_features, _ = transform_features(\n",
        "        features,\n",
        "        categorical_cols,\n",
        "        numerical_cols,\n",
        "        existing_transformer=transformer\n",
        "    )\n",
        "\n",
        "    # Make prediction\n",
        "    predicted_fee = model.predict(transformed_features)[0]\n",
        "\n",
        "    print(f\"\\nTransfer Fee Prediction:\")\n",
        "    print(f\"Predicted: {format_currency(predicted_fee)} euros\")\n",
        "    print(f\"Actual: {format_currency(actual_fee)} euros\")\n",
        "    print(f\"Difference: {format_currency(abs(predicted_fee - actual_fee))} euros\")\n",
        "\n",
        "    return predicted_fee, actual_fee"
      ]
    },
    {
      "cell_type": "code",
      "execution_count": 14,
      "metadata": {
        "colab": {
          "base_uri": "https://localhost:8080/"
        },
        "id": "PvIIQjChlUcr",
        "outputId": "f8b606aa-eb92-4d41-9484-b98f2d04eb64"
      },
      "outputs": [
        {
          "name": "stdout",
          "output_type": "stream",
          "text": [
            "\n",
            "Transfer Fee Prediction:\n",
            "Predicted: 55,153,072 euros\n",
            "Actual: 55,000,000 euros\n",
            "Difference: 153,072 euros\n"
          ]
        }
      ],
      "source": [
        "# Predict transfer fee\n",
        "predicted_fee, actual_fee = predict_player_transfer(\n",
        "    288230,\n",
        "    transfer_data,\n",
        "    ensemble_model,\n",
        "    feature_transformer,\n",
        "    categorical_features,\n",
        "    numerical_features\n",
        ")"
      ]
    }
  ],
  "metadata": {
    "accelerator": "GPU",
    "colab": {
      "gpuType": "T4",
      "provenance": []
    },
    "kernelspec": {
      "display_name": "base",
      "language": "python",
      "name": "python3"
    },
    "language_info": {
      "codemirror_mode": {
        "name": "ipython",
        "version": 3
      },
      "file_extension": ".py",
      "mimetype": "text/x-python",
      "name": "python",
      "nbconvert_exporter": "python",
      "pygments_lexer": "ipython3",
      "version": "3.11.7"
    }
  },
  "nbformat": 4,
  "nbformat_minor": 0
}
